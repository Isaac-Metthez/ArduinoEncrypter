{
 "cells": [
  {
   "attachments": {},
   "cell_type": "markdown",
   "metadata": {},
   "source": [
    "Import"
   ]
  },
  {
   "cell_type": "code",
   "execution_count": 7,
   "metadata": {},
   "outputs": [],
   "source": [
    "import ed25519\n",
    "import x25519\n",
    "from aes import aes\n",
    "import aes\n",
    "import base64"
   ]
  },
  {
   "attachments": {},
   "cell_type": "markdown",
   "metadata": {},
   "source": [
    "Testsignature"
   ]
  },
  {
   "cell_type": "code",
   "execution_count": 58,
   "metadata": {},
   "outputs": [
    {
     "name": "stdout",
     "output_type": "stream",
     "text": [
      "Private key (32 bytes): 0fde8a96b2066e34fbeac155fc5104a8c05a96c501a001300ee99f9eb261d82d\n",
      "Public key (32 bytes):  7e4a530129fbe298f9e431356f0d2f5687fc21a1241064ea224687de8be5a24a\n",
      "<class 'bytes'>\n",
      "Signature (64 bytes): b'B785B9A12C6389EDF447D470D2B38C278E5ADBC31F67FA79741B9AC8CA78FB9EB96585DE2DFD2ABCF4D769163F07AEBC412424247824EE9BF2F087FA7F5FD10B'\n",
      "The signature is valid.\n"
     ]
    }
   ],
   "source": [
    "privKey = ed25519.keys.SigningKey(b'0FDE8A96B2066E34FBEAC155FC5104A8C05A96C501A001300EE99F9EB261D82D',encoding='hex')\n",
    "pubKey = ed25519.keys.VerifyingKey(b'7E4A530129FBE298F9E431356F0D2F5687FC21A1241064EA224687DE8BE5A24A',encoding='hex')\n",
    "\n",
    "print(\"Private key (32 bytes):\", privKey.to_seed().hex())\n",
    "print(\"Public key (32 bytes): \", pubKey.to_bytes().hex())\n",
    "\n",
    "\n",
    "msg = \"test de signature\".encode(\"ascii\")\n",
    "\n",
    "# signature = privKey.sign(msg, encoding='hex')\n",
    "signature = b'B785B9A12C6389EDF447D470D2B38C278E5ADBC31F67FA79741B9AC8CA78FB9EB96585DE2DFD2ABCF4D769163F07AEBC412424247824EE9BF2F087FA7F5FD10B'\n",
    "\n",
    "print(\"Signature (64 bytes):\", signature)\n",
    "try:\n",
    "    pubKey.verify(signature, msg, encoding='hex')\n",
    "    print(\"The signature is valid.\")\n",
    "except:\n",
    "    print(\"Invalid signature!\")\n"
   ]
  },
  {
   "cell_type": "code",
   "execution_count": 73,
   "metadata": {},
   "outputs": [
    {
     "name": "stdout",
     "output_type": "stream",
     "text": [
      "The signature is valid.\n"
     ]
    }
   ],
   "source": [
    "pubKey = ed25519.keys.VerifyingKey(base64.b64decode(\"M5eteHi2XupVABkTTiaeBJmEV1n8vw8/Zna4ETwSqXo=\").hex(),encoding='hex')\n",
    "\n",
    "msg = \"r/9cAvXvkEUGybjvE+yZxyd+4kcnHzpxnBAc1nnIlVc=\".encode(\"ascii\")\n",
    "\n",
    "signature = b'D078A6E8283855542E77421CFF0E188099C597AF2B1D58D901CC0C02DBD08BA208DB87D4A75BD8B5DE114068E808C69D9D4F73D3693AF2F72E188EB5DDD86101'\n",
    "\n",
    "try:\n",
    "    pubKey.verify(signature, msg, encoding='hex')\n",
    "    print(\"The signature is valid.\")\n",
    "except:\n",
    "    print(\"Invalid signature!\")"
   ]
  },
  {
   "cell_type": "code",
   "execution_count": 67,
   "metadata": {},
   "outputs": [
    {
     "name": "stdout",
     "output_type": "stream",
     "text": [
      "Private key (32 bytes): 9346e3192f9ab52b21b7354e7c1610c79acbde68865ae78fed2c4caca313ea43\n",
      "Public key (32 bytes):  f8b82361032f4e712e4e2e032f33f570f54111dcafc2dd7eb14eaae05267a5c8\n"
     ]
    }
   ],
   "source": [
    "privKey2, pubKey2 = ed25519.keys.create_keypair()\n",
    "print(\"Private key (32 bytes):\", privKey2.to_seed().hex())\n",
    "print(\"Public key (32 bytes): \", pubKey2.to_bytes().hex())"
   ]
  },
  {
   "cell_type": "code",
   "execution_count": 78,
   "metadata": {},
   "outputs": [
    {
     "name": "stdout",
     "output_type": "stream",
     "text": [
      "arduino Private key (32 bytes): 0fde8a96b2066e34fbeac155fc5104a8c05a96c501a001300ee99f9eb261d82d\n",
      "arduino Public key (32 bytes):  3397ad7878b65eea550019134e269e0499845759fcbf0f3f6676b8113c12a97a\n",
      "python Private key (32 bytes): 9346e3192f9ab52b21b7354e7c1610c79acbde68865ae78fed2c4caca313ea43\n",
      "python Public key (32 bytes):  f8b82361032f4e712e4e2e032f33f570f54111dcafc2dd7eb14eaae05267a5c8\n",
      "55af02898e27b564b5701805120b21b57d2f3d2fded8bd9717c566f7adaace33\n",
      "6cdcca6073ce320aad22f3c7562a557224664e0fa4c50df74b7c78de75abf879\n",
      "\n",
      "\n",
      "Shared (arduino):\tf8f48a9956bdec03673b10a3d25cd869c5f39f03d2ad0e99cdbd5ddef586f651\n",
      "Shared (python): \tf8f48a9956bdec03673b10a3d25cd869c5f39f03d2ad0e99cdbd5ddef586f651\n"
     ]
    }
   ],
   "source": [
    "print(\"arduino Private key (32 bytes):\", privKey.to_seed().hex())\n",
    "print(\"arduino Public key (32 bytes): \", pubKey.to_bytes().hex())\n",
    "\n",
    "print(\"python Private key (32 bytes):\", privKey2.to_seed().hex())\n",
    "print(\"python Public key (32 bytes): \", pubKey2.to_bytes().hex())\n",
    "\n",
    "pubx = x25519.scalar_base_mult(privKey.to_seed())\n",
    "print(pubx.hex())\n",
    "pubx2 = x25519.scalar_base_mult(privKey2.to_seed())\n",
    "print(pubx2.hex())\n",
    "\n",
    "shared = x25519.curve25519(privKey.to_seed(), pubx2) \n",
    "sharedPy = x25519.curve25519(privKey2.to_seed(), pubx) \n",
    "\n",
    "print (f\"\\n\\nShared (arduino):\\t{(shared).hex()}\")\n",
    "print (f\"Shared (python): \\t{(sharedPy).hex()}\")\n"
   ]
  },
  {
   "cell_type": "code",
   "execution_count": 79,
   "metadata": {},
   "outputs": [
    {
     "name": "stdout",
     "output_type": "stream",
     "text": [
      "Public Key to send :b'+LgjYQMvTnEuTi4DLzP1cPVBEdyvwt1+sU6q4FJnpcg='\n"
     ]
    }
   ],
   "source": [
    "print(f\"Public Key to send :{base64.b64encode(pubKey2.to_bytes())}\")"
   ]
  },
  {
   "cell_type": "code",
   "execution_count": 93,
   "metadata": {},
   "outputs": [
    {
     "name": "stdout",
     "output_type": "stream",
     "text": [
      "Key to send :\n"
     ]
    },
    {
     "ename": "AssertionError",
     "evalue": "",
     "output_type": "error",
     "traceback": [
      "\u001b[1;31m---------------------------------------------------------------------------\u001b[0m",
      "\u001b[1;31mAssertionError\u001b[0m                            Traceback (most recent call last)",
      "Cell \u001b[1;32mIn[93], line 7\u001b[0m\n\u001b[0;32m      4\u001b[0m encoded \u001b[39m=\u001b[39m \u001b[39m\"\u001b[39m\u001b[39m\"\u001b[39m\u001b[39m.\u001b[39mencode(\u001b[39m\"\u001b[39m\u001b[39mascii\u001b[39m\u001b[39m\"\u001b[39m)\u001b[39m.\u001b[39mhex()\n\u001b[0;32m      5\u001b[0m \u001b[39mprint\u001b[39m(\u001b[39mf\u001b[39m\u001b[39m\"\u001b[39m\u001b[39mKey to send :\u001b[39m\u001b[39m{\u001b[39;00mencoded\u001b[39m}\u001b[39;00m\u001b[39m\"\u001b[39m)\n\u001b[1;32m----> 7\u001b[0m signature \u001b[39m=\u001b[39m privKey2\u001b[39m.\u001b[39;49msign(encoded, encoding\u001b[39m=\u001b[39;49m\u001b[39m'\u001b[39;49m\u001b[39mhex\u001b[39;49m\u001b[39m'\u001b[39;49m)\n\u001b[0;32m      8\u001b[0m \u001b[39mprint\u001b[39m(\u001b[39mf\u001b[39m\u001b[39m\"\u001b[39m\u001b[39mSignature :\u001b[39m\u001b[39m{\u001b[39;00msignature\u001b[39m}\u001b[39;00m\u001b[39m\"\u001b[39m)\n",
      "File \u001b[1;32mc:\\Users\\Isaac\\anaconda3\\envs\\HeArc\\lib\\site-packages\\ed25519\\keys.py:117\u001b[0m, in \u001b[0;36mSigningKey.sign\u001b[1;34m(self, msg, prefix, encoding)\u001b[0m\n\u001b[0;32m    116\u001b[0m \u001b[39mdef\u001b[39;00m \u001b[39msign\u001b[39m(\u001b[39mself\u001b[39m, msg, prefix\u001b[39m=\u001b[39m\u001b[39m\"\u001b[39m\u001b[39m\"\u001b[39m, encoding\u001b[39m=\u001b[39m\u001b[39mNone\u001b[39;00m):\n\u001b[1;32m--> 117\u001b[0m     \u001b[39massert\u001b[39;00m \u001b[39misinstance\u001b[39m(msg, \u001b[39mbytes\u001b[39m)\n\u001b[0;32m    118\u001b[0m     \u001b[39mif\u001b[39;00m \u001b[39mnot\u001b[39;00m \u001b[39misinstance\u001b[39m(prefix, \u001b[39mbytes\u001b[39m):\n\u001b[0;32m    119\u001b[0m         prefix \u001b[39m=\u001b[39m prefix\u001b[39m.\u001b[39mencode(\u001b[39m'\u001b[39m\u001b[39mascii\u001b[39m\u001b[39m'\u001b[39m)\n",
      "\u001b[1;31mAssertionError\u001b[0m: "
     ]
    }
   ],
   "source": [
    "# pubx2 = x25519.scalar_base_mult(privKey2.to_seed())\n",
    "\n",
    "# encoded = base64.b64encode(pubx2)\n",
    "\n",
    "encoded = \"\".encode(\"ascii\").hex()\n",
    "\n",
    "print(f\"Key to send :{encoded}\")\n",
    "\n",
    "signature = privKey2.sign(encoded, encoding='hex')\n",
    "print(f\"Signature :{signature}\")\n",
    "\n"
   ]
  },
  {
   "cell_type": "code",
   "execution_count": 88,
   "metadata": {},
   "outputs": [
    {
     "name": "stdout",
     "output_type": "stream",
     "text": [
      "The signature is valid.\n"
     ]
    }
   ],
   "source": [
    "try:\n",
    "    pubKey2.verify(signature, encoded, encoding='hex')\n",
    "    print(\"The signature is valid.\")\n",
    "except:\n",
    "    print(\"Invalid signature!\")"
   ]
  },
  {
   "cell_type": "code",
   "execution_count": 32,
   "metadata": {},
   "outputs": [
    {
     "name": "stdout",
     "output_type": "stream",
     "text": [
      "29db79f4aca924d2ddc1416bfd19f1472091e6b11c66dd2973c47d924f54452d\n",
      "Shared : \t33cbcc4fb165255ef85449d31642e14328d02dd362c044d6eab1d5283db8fb2d\n"
     ]
    }
   ],
   "source": [
    "arduinoKey = base64.b64decode(\"Kdt59KypJNLdwUFr/RnxRyCR5rEcZt0pc8R9kk9URS0=\")\n",
    "print(arduinoKey.hex())\n",
    "\n",
    "realshared = x25519.curve25519(privKey2.to_seed(), arduinoKey)\n",
    "\n",
    "print (f\"Shared : \\t{(realshared).hex()}\")"
   ]
  },
  {
   "cell_type": "code",
   "execution_count": 34,
   "metadata": {},
   "outputs": [
    {
     "name": "stdout",
     "output_type": "stream",
     "text": [
      "23428035336669014474109320767116469806595878481988317144623583298308737137453\n",
      "[13, 83, 95, 90, 127, 150, 236, 44, 52, 155, 0, 6, 202, 180, 228, 112]\n",
      "0x0d535f5a7f96ec2c349b0006cab4e470\n",
      "[0, 17, 34, 51, 68, 85, 102, 119, 136, 153, 170, 187, 204, 221, 238, 255]\n",
      "0x00112233445566778899aabbccddeeff\n"
     ]
    }
   ],
   "source": [
    "pt = 0x00112233445566778899aabbccddeeff\n",
    "\n",
    "mk =  int.from_bytes(realshared,'big')\n",
    "\n",
    "cipher = aes.aes(mk, 256)\n",
    "print(mk)\n",
    "\n",
    "ct = cipher.enc_once(pt)\n",
    "print(ct)\n",
    "print(\"0x\"+hex(aes.utils.arr8bit2int(ct))[2:].zfill(32))\n",
    "\n",
    "pr = cipher.dec_once(ct)\n",
    "print(pr)\n",
    "print(\"0x\"+hex(aes.utils.arr8bit2int(pr))[2:].zfill(32))"
   ]
  }
 ],
 "metadata": {
  "kernelspec": {
   "display_name": "Python 3",
   "language": "python",
   "name": "python3"
  },
  "language_info": {
   "codemirror_mode": {
    "name": "ipython",
    "version": 3
   },
   "file_extension": ".py",
   "mimetype": "text/x-python",
   "name": "python",
   "nbconvert_exporter": "python",
   "pygments_lexer": "ipython3",
   "version": "3.9.16"
  },
  "vscode": {
   "interpreter": {
    "hash": "2a8dfe095fce2b5e88c64a2c3ee084c8e0e0d70b23e7b95b1cfb538be294c5c8"
   }
  }
 },
 "nbformat": 4,
 "nbformat_minor": 4
}

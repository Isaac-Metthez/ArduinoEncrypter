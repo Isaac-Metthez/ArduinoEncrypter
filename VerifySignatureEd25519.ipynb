{
 "cells": [
  {
   "attachments": {},
   "cell_type": "markdown",
   "metadata": {},
   "source": [
    "## Imports"
   ]
  },
  {
   "cell_type": "code",
   "execution_count": 1,
   "metadata": {},
   "outputs": [],
   "source": [
    "import ed25519\n",
    "import x25519\n",
    "from aes import aes\n",
    "import aes\n",
    "import base64\n",
    "import socket\n",
    "import os"
   ]
  },
  {
   "attachments": {},
   "cell_type": "markdown",
   "metadata": {},
   "source": [
    "## Full apllication"
   ]
  },
  {
   "cell_type": "code",
   "execution_count": 2,
   "metadata": {},
   "outputs": [
    {
     "name": "stdout",
     "output_type": "stream",
     "text": [
      "Public Key to save in arduino :b'GskUXMWVAz26Ko+AAywcB75HGZurjfnznrgsxaSY1mc='\n"
     ]
    }
   ],
   "source": [
    "# const\n",
    "address = '192.168.127.121'    \n",
    "port = 20582        \n",
    "\n",
    "# ed25519 private Key\n",
    "priv_ed25519 = ed25519.keys.SigningKey(base64.b64decode(\"06DAozc2xb72sdoseInPHTLwhg+E3+pC+qPhxCh12To=\"))\n",
    "print(f\"Public Key to save in arduino :{base64.b64encode(priv_ed25519.get_verifying_key().to_bytes())}\")"
   ]
  },
  {
   "cell_type": "code",
   "execution_count": 109,
   "metadata": {},
   "outputs": [
    {
     "name": "stdout",
     "output_type": "stream",
     "text": [
      "socket binded to 20582\n",
      "socket is listening\n",
      "Got connection from ('192.168.127.97', 57586) \n",
      "\n",
      "client with \n",
      "8a889cabb53615ccbba7e09fc8d1baa9e5d7ce569681e9e30380ee4a4a1687cb\n",
      "public key is accepted\n",
      "\n",
      "The signature is valid.\n",
      "\n",
      "Shared from client  : e8395dc9f46973c081216732734eadf0c83cdfcbb8b9746881d1af41a7cbc22d\n",
      "Shared              : e8395dc9f46973c081216732734eadf0c83cdfcbb8b9746881d1af41a7cbc22d\n"
     ]
    }
   ],
   "source": [
    "\n",
    "# TCP server\n",
    "s = socket.socket()           \n",
    "s.bind((address, port))         \n",
    "print (\"socket binded to %s\" %(port))\n",
    "s.listen(5)    \n",
    "print (\"socket is listening\")    \n",
    "\n",
    "# connect first client\n",
    "c, addr = s.accept()    \n",
    "print (f\"Got connection from {addr} \\n\" )\n",
    "c.settimeout(5)\n",
    "\n",
    "# receive public ed25519 key from server then accept\n",
    "# Normally fisrt time add to known host\n",
    "client_pub_ed25519 = ed25519.keys.VerifyingKey(base64.b64decode(c.recv(44).decode(\"ascii\"))) \n",
    "c.send('accept'.encode(\"ascii\"))\n",
    "print(f\"client with \\n{client_pub_ed25519.to_bytes().hex()}\\npublic key is accepted\\n\")\n",
    "\n",
    "# get public x25519 from client and control with signature\n",
    "# control signature will be usefull if public ed25519 can be verified with known host\n",
    "base64_client_pub_x25519 = c.recv(44).decode(\"ascii\")\n",
    "client_pub_x25519 = base64.b64decode(base64_client_pub_x25519)\n",
    "client_signature = c.recv(64)\n",
    "\n",
    "# control signature \n",
    "try:\n",
    "    client_pub_ed25519.verify(client_signature.hex(), base64_client_pub_x25519.encode(\"ascii\"), encoding='hex')\n",
    "    print(\"The signature is valid.\")\n",
    "except:\n",
    "    print(\"Invalid signature!\")\n",
    "\n",
    "# authenticate us\n",
    "priv_x25519 =  os.urandom(32)\n",
    "pub_x25519 = x25519.scalar_base_mult(priv_x25519)\n",
    "encoded_pub_x25519 = base64.b64encode(pub_x25519)\n",
    "\n",
    "signature = priv_ed25519.sign(encoded_pub_x25519)\n",
    "c.send(encoded_pub_x25519)\n",
    "c.send(signature)\n",
    "\n",
    "shared_from_client = c.recv(32)\n",
    "print(f\"\\nShared from client  : {(shared_from_client).hex()}\")\n",
    "\n",
    "calculate_shared = x25519.curve25519(priv_x25519, client_pub_x25519)\n",
    "\n",
    "print(f\"Shared              : {(calculate_shared).hex()}\")\n",
    "symkey =  aes.core.key_expansion(aes.utils.int2arr8bit(int.from_bytes(calculate_shared,'big'),32),256 )\n",
    "\n",
    "encrypted = c.recv(128)\n",
    "\n",
    "s.close()"
   ]
  },
  {
   "attachments": {},
   "cell_type": "markdown",
   "metadata": {},
   "source": [
    "Decrypt last message with shared key from agreement"
   ]
  },
  {
   "cell_type": "code",
   "execution_count": 110,
   "metadata": {},
   "outputs": [
    {
     "name": "stdout",
     "output_type": "stream",
     "text": [
      "cf72bc329edbcf9a625e03bfb9cf4cc920666e5e9c03f9da541c1b112a267bd26983906ec66397de11f4625b522dcd3736f2021058f96e4c3e0fb8df4f760d2faccc012ae9d87a123accb8e69211ab2750a2fa0f56de0c1ef06510f71ca32765\n",
      "encryted works ?\n",
      "encryted works, \n",
      "I hope so but it\n",
      "'s never sure...\n",
      " I try with many\n",
      "block\u0000\u0000\u0000\u0000\u0000\u0000\u0000\u0000\u0000\u0000\u0000\n"
     ]
    }
   ],
   "source": [
    "print(encrypted.hex())\n",
    "last_ciphertext = [0]*16\n",
    "# print(aes.utils.int2arr8bit(int.from_bytes(encrypted, 'big'), len(encrypted)))\n",
    "for x in range(int(len(encrypted)/16)):\n",
    "    ciphertext = aes.utils.int2arr8bit(int.from_bytes(encrypted[x*16:x*16+16:], 'big'), 16)\n",
    "    plaintext = list(a^b for a,b in zip(aes.core.decryption(ciphertext, symkey),last_ciphertext))\n",
    "    last_ciphertext = ciphertext\n",
    "    print(aes.utils.arr8bit2int(plaintext).to_bytes(len(plaintext),'big').decode('ascii'))\n"
   ]
  },
  {
   "attachments": {},
   "cell_type": "markdown",
   "metadata": {},
   "source": []
  },
  {
   "attachments": {},
   "cell_type": "markdown",
   "metadata": {},
   "source": [
    "Encrypt"
   ]
  },
  {
   "cell_type": "code",
   "execution_count": 52,
   "metadata": {},
   "outputs": [
    {
     "name": "stdout",
     "output_type": "stream",
     "text": [
      "e4a6320ec52471834a8a4ab5fcd59330\n",
      "656e63727974656420776f726b73203f\n",
      "724bfa40a05b1fcff19b23ad54cd4027\n",
      "81c8517cbc5014e76afd25c797a6b30f\n"
     ]
    }
   ],
   "source": [
    "text = \"encryted works ?\"\n",
    "enc_plaintext = aes.utils.int2arr8bit(int.from_bytes(text.encode(\"ascii\"), 'big'), 16)\n",
    "\n",
    "temp = list(a^b for a,b in zip(enc_plaintext,[0]*16))\n",
    "ciphertext = aes.core.encryption(temp, symkey)\n",
    "print(aes.utils.arr8bit2int(ciphertext).to_bytes(len(ciphertext),'big').hex())\n",
    "print(aes.utils.arr8bit2int(temp).to_bytes(len(temp),'big').hex())\n",
    "# encrypted = aes.utils.arr8bit2int(ciphertext).to_bytes(len(ciphertext),'big')\n",
    "\n",
    "text = \"encryted works ?\"\n",
    "enc_plaintext = aes.utils.int2arr8bit(int.from_bytes(text.encode(\"ascii\"), 'big'), 16)\n",
    "\n",
    "temp = list(a^b for a,b in zip(enc_plaintext,ciphertext))\n",
    "ciphertext = aes.core.encryption(temp, symkey)\n",
    "\n",
    "# encrypted += aes.utils.arr8bit2int(ciphertext).to_bytes(len(ciphertext),'big')\n",
    "\n",
    "print(aes.utils.arr8bit2int(ciphertext).to_bytes(len(ciphertext),'big').hex())"
   ]
  },
  {
   "attachments": {},
   "cell_type": "markdown",
   "metadata": {},
   "source": []
  },
  {
   "attachments": {},
   "cell_type": "markdown",
   "metadata": {},
   "source": [
    "## Individual cells for testing"
   ]
  },
  {
   "attachments": {},
   "cell_type": "markdown",
   "metadata": {},
   "source": [
    "### Signatures tests"
   ]
  },
  {
   "cell_type": "code",
   "execution_count": 9,
   "metadata": {},
   "outputs": [
    {
     "name": "stdout",
     "output_type": "stream",
     "text": [
      "Private key (32 bytes): 0fde8a96b2066e34fbeac155fc5104a8c05a96c501a001300ee99f9eb261d82d\n",
      "Public key (32 bytes):  7e4a530129fbe298f9e431356f0d2f5687fc21a1241064ea224687de8be5a24a\n",
      "Signature (64 bytes): b'B785B9A12C6389EDF447D470D2B38C278E5ADBC31F67FA79741B9AC8CA78FB9EB96585DE2DFD2ABCF4D769163F07AEBC412424247824EE9BF2F087FA7F5FD10B'\n",
      "The signature is valid.\n"
     ]
    }
   ],
   "source": [
    "privKey = ed25519.keys.SigningKey(b'0FDE8A96B2066E34FBEAC155FC5104A8C05A96C501A001300EE99F9EB261D82D',encoding='hex')\n",
    "pubKey = ed25519.keys.VerifyingKey(b'7E4A530129FBE298F9E431356F0D2F5687FC21A1241064EA224687DE8BE5A24A',encoding='hex')\n",
    "\n",
    "print(\"Private key (32 bytes):\", privKey.to_seed().hex())\n",
    "print(\"Public key (32 bytes): \", pubKey.to_bytes().hex())\n",
    "\n",
    "\n",
    "msg = \"test de signature\".encode(\"ascii\")\n",
    "\n",
    "# signature = privKey.sign(msg, encoding='hex')\n",
    "signature = b'B785B9A12C6389EDF447D470D2B38C278E5ADBC31F67FA79741B9AC8CA78FB9EB96585DE2DFD2ABCF4D769163F07AEBC412424247824EE9BF2F087FA7F5FD10B'\n",
    "\n",
    "print(\"Signature (64 bytes):\", signature)\n",
    "try:\n",
    "    pubKey.verify(signature, msg, encoding='hex')\n",
    "    print(\"The signature is valid.\")\n",
    "except:\n",
    "    print(\"Invalid signature!\")\n"
   ]
  },
  {
   "cell_type": "code",
   "execution_count": 95,
   "metadata": {},
   "outputs": [
    {
     "name": "stdout",
     "output_type": "stream",
     "text": [
      "Invalid signature!\n"
     ]
    }
   ],
   "source": [
    "pubKey = ed25519.keys.VerifyingKey(base64.b64decode(\"vRy71JXxwpbl3ZfCJCeROrUrYbxD8DMuu0qsCTIa1Oc=\").hex(),encoding='hex')\n",
    "\n",
    "msg = \"hYSGOw1znznl5NO3OnI85/1kiC75dUEH0u1BZLDFLWw=\".encode(\"ascii\")\n",
    "\n",
    "signature = b'0f2f532b651886ad13022057cf3c2acc7daf573ed48487484d62d5s4c972354de7390ff041561dfbe35877c0575a199ade4200d2ddf5efb92e9f57ad12b542102'\n",
    "\n",
    "try:\n",
    "    pubKey.verify(signature, msg, encoding='hex')\n",
    "    print(\"The signature is valid.\")\n",
    "except:\n",
    "    print(\"Invalid signature!\")"
   ]
  },
  {
   "attachments": {},
   "cell_type": "markdown",
   "metadata": {},
   "source": [
    "### Create random keys "
   ]
  },
  {
   "cell_type": "code",
   "execution_count": 90,
   "metadata": {},
   "outputs": [
    {
     "name": "stdout",
     "output_type": "stream",
     "text": [
      "Private key (32 bytes): d3a0c0a33736c5bef6b1da2c7889cf1d32f0860f84dfea42faa3e1c42875d93a\n",
      "Public key (32 bytes):  1ac9145cc595033dba2a8f80032c1c07be47199bab8df9f39eb82cc5a498d667\n"
     ]
    }
   ],
   "source": [
    "# privKey2, pubKey2 = ed25519.keys.create_keypair()\n",
    "privKey2 = ed25519.keys.SigningKey(base64.b64decode(\"06DAozc2xb72sdoseInPHTLwhg+E3+pC+qPhxCh12To=\"))\n",
    "pubKey2 = privKey2.get_verifying_key()\n",
    "print(\"Private key (32 bytes):\", privKey2.to_seed().hex())\n",
    "print(\"Public key (32 bytes): \", pubKey2.to_bytes().hex())"
   ]
  },
  {
   "attachments": {},
   "cell_type": "markdown",
   "metadata": {},
   "source": [
    "### Test Curve25519"
   ]
  },
  {
   "cell_type": "code",
   "execution_count": 107,
   "metadata": {},
   "outputs": [
    {
     "name": "stdout",
     "output_type": "stream",
     "text": [
      "arduino Private key (32 bytes): d3a0c0a33736c5bef6b1da2c7889cf1d32f0860f84dfea42faa3e1c42875d93a\n",
      "arduino Public key (32 bytes):  bd1cbbd495f1c296e5dd97c22427913ab52b61bc43f0332ebb4aac09321ad4e7\n",
      "python Private key (32 bytes): d3a0c0a33736c5bef6b1da2c7889cf1d32f0860f84dfea42faa3e1c42875d93a\n",
      "python Public key (32 bytes):  1ac9145cc595033dba2a8f80032c1c07be47199bab8df9f39eb82cc5a498d667\n",
      "arduino Public key x(32 bytes):  a3f86021c755faf9bcebbca83814ab8c8b95a2e76994645ec0e3da338dc8d806\n",
      "python Public key x(32 bytes):  a3f86021c755faf9bcebbca83814ab8c8b95a2e76994645ec0e3da338dc8d806\n",
      "\n",
      "\n",
      "Shared (arduino):\t89042f153af5b27a6cdc290749c20fd5af3b7ebaf480542f03165fbd55efca45\n",
      "Shared (python): \t89042f153af5b27a6cdc290749c20fd5af3b7ebaf480542f03165fbd55efca45\n"
     ]
    }
   ],
   "source": [
    "print(\"arduino Private key (32 bytes):\", privKey.to_seed().hex())\n",
    "print(\"arduino Public key (32 bytes): \", pubKey.to_bytes().hex())\n",
    "\n",
    "print(\"python Private key (32 bytes):\", privKey2.to_seed().hex())\n",
    "print(\"python Public key (32 bytes): \", pubKey2.to_bytes().hex())\n",
    "\n",
    "pubx = x25519.scalar_base_mult(privKey.to_seed())\n",
    "print(\"arduino Public key x(32 bytes): \",pubx.hex())\n",
    "pubx2 = x25519.scalar_base_mult(privKey2.to_seed())\n",
    "print(\"python Public key x(32 bytes): \", pubx2.hex())\n",
    "\n",
    "shared = x25519.curve25519(privKey.to_seed(), pubx2) \n",
    "sharedPy = x25519.curve25519(privKey2.to_seed(), pubx) \n",
    "\n",
    "print (f\"\\n\\nShared (arduino):\\t{(shared).hex()}\")\n",
    "print (f\"Shared (python): \\t{(sharedPy).hex()}\")"
   ]
  },
  {
   "attachments": {},
   "cell_type": "markdown",
   "metadata": {},
   "source": [
    "### Save sever public key in arduino (Base64)"
   ]
  },
  {
   "cell_type": "code",
   "execution_count": 61,
   "metadata": {},
   "outputs": [
    {
     "name": "stdout",
     "output_type": "stream",
     "text": [
      "Public Key to save in arduino :b'06DAozc2xb72sdoseInPHTLwhg+E3+pC+qPhxCh12To='\n",
      "Public Key to save in arduino :b'GskUXMWVAz26Ko+AAywcB75HGZurjfnznrgsxaSY1mc='\n"
     ]
    }
   ],
   "source": [
    "print(f\"Public Key to save in arduino :{base64.b64encode(pubKey2.to_bytes())}\")"
   ]
  },
  {
   "cell_type": "code",
   "execution_count": 91,
   "metadata": {},
   "outputs": [
    {
     "name": "stdout",
     "output_type": "stream",
     "text": [
      "Key in hex  :20f18bd2680f7dc245d4094ed90e823cae997f69bc828f97ee1d8f1a2eb0ed25\n",
      "Key to send :b'IPGL0mgPfcJF1AlO2Q6CPK6Zf2m8go+X7h2PGi6w7SU='\n",
      "Signature :cc029c64093e71460c57946138c82caa6a644b1da656a6e9c462d2e846fc32a8d718862f698b79c289b6d438f262a883d60266c9187101416166ca687bc7460c\n"
     ]
    }
   ],
   "source": [
    "privx2 =  os.urandom(32)\n",
    "pubx2 = x25519.scalar_base_mult(privx2)\n",
    "\n",
    "encoded = base64.b64encode(pubx2)\n",
    "\n",
    "print(f\"Key in hex  :{pubx2.hex()}\")\n",
    "print(f\"Key to send :{encoded}\")\n",
    " \n",
    "signatureofencoded = privKey2.sign(encoded)\n",
    "print(f\"Signature :{signatureofencoded.hex()}\")"
   ]
  },
  {
   "cell_type": "code",
   "execution_count": 81,
   "metadata": {},
   "outputs": [
    {
     "name": "stdout",
     "output_type": "stream",
     "text": [
      "The signature is valid.\n"
     ]
    }
   ],
   "source": [
    "try:\n",
    "    pubKey2.verify(signatureofencoded.hex(), encoded, encoding='hex')\n",
    "    print(\"The signature is valid.\")\n",
    "except:\n",
    "    print(\"Invalid signature!\")"
   ]
  },
  {
   "attachments": {},
   "cell_type": "markdown",
   "metadata": {},
   "source": [
    "### From public x25519 key of arduino create shared key"
   ]
  },
  {
   "cell_type": "code",
   "execution_count": 59,
   "metadata": {},
   "outputs": [
    {
     "name": "stdout",
     "output_type": "stream",
     "text": [
      "5a44bbf0618aa124d1501ebf30e29c8b1c170f3f579747b1a6e3d9e6c112f42e\n",
      "Shared : \taff041dea1c51a458a5d3aa15027c191c9dd6f9f17f1fac97e3a720de383541c\n"
     ]
    }
   ],
   "source": [
    "arduinoKey = base64.b64decode(\"WkS78GGKoSTRUB6/MOKcixwXDz9Xl0expuPZ5sES9C4=\")\n",
    "print(arduinoKey.hex())\n",
    "\n",
    "realshared = x25519.curve25519(privKey2.to_seed(), arduinoKey)\n",
    "\n",
    "print (f\"Shared : \\t{(realshared).hex()}\")"
   ]
  },
  {
   "attachments": {},
   "cell_type": "markdown",
   "metadata": {},
   "source": [
    "### TCP server "
   ]
  },
  {
   "cell_type": "code",
   "execution_count": 92,
   "metadata": {},
   "outputs": [
    {
     "name": "stdout",
     "output_type": "stream",
     "text": [
      "Socket successfully created\n",
      "socket binded to 20582\n",
      "socket is listening\n"
     ]
    }
   ],
   "source": [
    "s = socket.socket()        \n",
    "print (\"Socket successfully created\")\n",
    "\n",
    "port = 20582               \n",
    "\n",
    "s.bind(('192.168.127.121', port))        \n",
    "\n",
    "print (\"socket binded to %s\" %(port))\n",
    " \n",
    "s.listen(5)    \n",
    "print (\"socket is listening\")         "
   ]
  },
  {
   "cell_type": "code",
   "execution_count": 13,
   "metadata": {},
   "outputs": [],
   "source": [
    "s.close()"
   ]
  },
  {
   "attachments": {},
   "cell_type": "markdown",
   "metadata": {},
   "source": [
    "### Accept"
   ]
  },
  {
   "cell_type": "code",
   "execution_count": 93,
   "metadata": {},
   "outputs": [
    {
     "name": "stdout",
     "output_type": "stream",
     "text": [
      "Got connection from ('192.168.127.97', 54298)\n"
     ]
    }
   ],
   "source": [
    "c, addr = s.accept()    \n",
    "print ('Got connection from', addr )\n",
    "\n",
    "c.settimeout(5)"
   ]
  },
  {
   "cell_type": "code",
   "execution_count": null,
   "metadata": {},
   "outputs": [],
   "source": [
    "print (c.recv(44).decode(\"ascii\"))\n",
    "c.send('accept'.encode(\"ascii\"))\n",
    "\n",
    "print (c.recv(44).decode(\"ascii\"))\n",
    "print (c.recv(64).hex())\n",
    "\n",
    "c.send(encoded)\n",
    "c.send(signatureofencoded)\n",
    "\n",
    "print (c.recv(64).hex()) \n",
    "print (c.recv(32).decode(\"ascii\")) \n",
    "print (c.recv(32).hex()) \n",
    "\n",
    "#   c.close()\n"
   ]
  },
  {
   "cell_type": "code",
   "execution_count": 31,
   "metadata": {},
   "outputs": [
    {
     "name": "stdout",
     "output_type": "stream",
     "text": [
      "b''\n"
     ]
    }
   ],
   "source": [
    "data = bytes()\n",
    "try:\n",
    "    print (c.recv(44).decode(\"ascii\"))\n",
    "    c.settimeout(0.01)\n",
    "    while True:\n",
    "        data +=c.recv(1)\n",
    "except:\n",
    "    print(data)"
   ]
  },
  {
   "attachments": {},
   "cell_type": "markdown",
   "metadata": {},
   "source": [
    "### Tests AES encrypting"
   ]
  },
  {
   "cell_type": "code",
   "execution_count": 154,
   "metadata": {},
   "outputs": [
    {
     "name": "stdout",
     "output_type": "stream",
     "text": [
      "44491891957684176482331504626869073669219334627995553290301045895970595504980\n",
      "[99, 210, 123, 31, 17, 165, 233, 22, 177, 118, 35, 254, 195, 101, 187, 43]\n",
      "0x63d27b1f11a5e916b17623fec365bb2b\n",
      "[0, 17, 34, 51, 68, 85, 102, 119, 136, 153, 170, 187, 204, 221, 238, 255]\n",
      "0x00112233445566778899aabbccddeeff\n",
      "[91, 34, 218, 213, 116, 251, 217, 246, 71, 36, 1, 163, 191, 29, 28, 20]\n"
     ]
    },
    {
     "name": "stderr",
     "output_type": "stream",
     "text": [
      "c:\\Users\\Isaac\\anaconda3\\envs\\HeArc\\lib\\site-packages\\aes\\utils\\_check_tools.py:59: UserWarning: Initail Vector is randomly selected: [91, 34, 218, 213, 116, 251, 217, 246, 71, 36, 1, 163, 191, 29, 28, 20]\n",
      "  warnings.warn(\"Initail Vector is randomly selected: \" + str(iv))\n"
     ]
    }
   ],
   "source": [
    "pt = 0x00112233445566778899aabbccddeeff\n",
    "\n",
    "mk =  int.from_bytes(calculate_shared,'big')\n",
    "\n",
    "cipher = aes.aes(mk, 256, mode='CTR', padding='PKCS#7')\n",
    "print(mk)\n",
    "\n",
    "ct = cipher.enc_once(pt)\n",
    "print(ct)\n",
    "print(\"0x\"+hex(aes.utils.arr8bit2int(ct))[2:].zfill(32))\n",
    "\n",
    "pr = cipher.dec_once(ct)\n",
    "print(pr)\n",
    "print(\"0x\"+hex(aes.utils.arr8bit2int(pr))[2:].zfill(32))\n",
    "\n",
    "print(cipher.iv) "
   ]
  }
 ],
 "metadata": {
  "kernelspec": {
   "display_name": "Python 3",
   "language": "python",
   "name": "python3"
  },
  "language_info": {
   "codemirror_mode": {
    "name": "ipython",
    "version": 3
   },
   "file_extension": ".py",
   "mimetype": "text/x-python",
   "name": "python",
   "nbconvert_exporter": "python",
   "pygments_lexer": "ipython3",
   "version": "3.9.16"
  },
  "vscode": {
   "interpreter": {
    "hash": "2a8dfe095fce2b5e88c64a2c3ee084c8e0e0d70b23e7b95b1cfb538be294c5c8"
   }
  }
 },
 "nbformat": 4,
 "nbformat_minor": 4
}

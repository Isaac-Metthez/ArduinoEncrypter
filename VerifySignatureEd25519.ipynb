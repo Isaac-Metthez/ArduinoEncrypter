{
 "cells": [
  {
   "attachments": {},
   "cell_type": "markdown",
   "metadata": {},
   "source": [
    "Import"
   ]
  },
  {
   "cell_type": "code",
   "execution_count": 1,
   "metadata": {},
   "outputs": [],
   "source": [
    "import ed25519\n",
    "import x25519\n"
   ]
  },
  {
   "attachments": {},
   "cell_type": "markdown",
   "metadata": {},
   "source": [
    "Testsignature"
   ]
  },
  {
   "cell_type": "code",
   "execution_count": 39,
   "metadata": {},
   "outputs": [
    {
     "name": "stdout",
     "output_type": "stream",
     "text": [
      "Private key (32 bytes): b'7891ae84ad1b4fdc1fe7ec427e22db3bdf5894040d056e179f9d750e0ea44e5f'\n",
      "Public key (32 bytes):  b'79e197ad98535d0d4af8b3e39fa58f6d487134d8d214a55741af78c91e6f0ed1'\n",
      "Signature (64 bytes): b'9E44A4F578FE91393622D3DB82B94268FEB8186703B80A76B7888D6272C1BF61E0F343DCACFC05B17A856B718FC164648804F8F5C509C1356B959ABF8D94530C'\n",
      "The signature is valid.\n"
     ]
    }
   ],
   "source": [
    "privKey = ed25519.keys.SigningKey(b'7891AE84AD1B4FDC1FE7EC427E22DB3BDF5894040D056E179F9D750E0EA44E5F',encoding='hex')\n",
    "pubKey = ed25519.keys.VerifyingKey(b'79E197AD98535D0D4AF8B3E39FA58F6D487134D8D214A55741AF78C91E6F0ED1',encoding='hex')\n",
    "\n",
    "print(\"Private key (32 bytes):\", privKey.to_ascii(encoding='hex'))\n",
    "print(\"Public key (32 bytes): \", pubKey.to_ascii(encoding='hex'))\n",
    "\n",
    "\n",
    "msg = b''\n",
    "# signature = privKey.sign(msg, encoding='hex')\n",
    "signature = b'9E44A4F578FE91393622D3DB82B94268FEB8186703B80A76B7888D6272C1BF61E0F343DCACFC05B17A856B718FC164648804F8F5C509C1356B959ABF8D94530C'\n",
    "\n",
    "print(\"Signature (64 bytes):\", signature)\n",
    "try:\n",
    "    pubKey.verify(signature, msg, encoding='hex')\n",
    "    print(\"The signature is valid.\")\n",
    "except:\n",
    "    print(\"Invalid signature!\")\n",
    "\n",
    "\n"
   ]
  },
  {
   "cell_type": "code",
   "execution_count": 38,
   "metadata": {},
   "outputs": [
    {
     "name": "stdout",
     "output_type": "stream",
     "text": [
      "Private key (32 bytes): b'8f1f807bd0d282e11d365389983de71beaa5c7924e4a82dd9d0ad7a7360f90c4'\n",
      "Public key (32 bytes):  b'89870cdcdfcfd447fd06112cc680a8ced11239a6035109d86cde6b15c6eedf9f'\n"
     ]
    }
   ],
   "source": [
    "privKey2, pubKey2 = ed25519.keys.create_keypair()\n",
    "print(\"Private key (32 bytes):\", privKey2.to_ascii(encoding='hex'))\n",
    "print(\"Public key (32 bytes): \", pubKey2.to_ascii(encoding='hex'))"
   ]
  },
  {
   "cell_type": "code",
   "execution_count": 42,
   "metadata": {},
   "outputs": [
    {
     "name": "stdout",
     "output_type": "stream",
     "text": [
      "b'7891ae84ad1b4fdc1fe7ec427e22db3bdf5894040d056e179f9d750e0ea44e5f'\n",
      "b'8f1f807bd0d282e11d365389983de71beaa5c7924e4a82dd9d0ad7a7360f90c4'\n",
      "b'79e197ad98535d0d4af8b3e39fa58f6d487134d8d214a55741af78c91e6f0ed1'\n",
      "b'89870cdcdfcfd447fd06112cc680a8ced11239a6035109d86cde6b15c6eedf9f'\n",
      "\n",
      "\n",
      "Bob private (b):\tb467c836344927bbe0a450d507eda956271fabc50986405de5e4fbe0d5e5183b\n",
      "Alice private (a): \tb467c836344927bbe0a450d507eda956271fabc50986405de5e4fbe0d5e5183b\n"
     ]
    }
   ],
   "source": [
    "print (privKey.to_ascii(encoding='hex'))\n",
    "print (privKey2.to_ascii(encoding='hex'))\n",
    "\n",
    "print (pubKey.to_ascii(encoding='hex'))\n",
    "print (pubKey2.to_ascii(encoding='hex'))\n",
    "\n",
    "k_a = x25519.curve25519(privKey.to_seed(), pubKey2.to_bytes()) \n",
    "k_b = x25519.curve25519(privKey2.to_seed(), pubKey.to_bytes()) \n",
    "\n",
    "print (f\"\\n\\nBob private (b):\\t{(k_a).hex()}\")\n",
    "print (f\"Alice private (a): \\t{(k_a).hex()}\")\n",
    "\n"
   ]
  }
 ],
 "metadata": {
  "kernelspec": {
   "display_name": "Python 3",
   "language": "python",
   "name": "python3"
  },
  "language_info": {
   "codemirror_mode": {
    "name": "ipython",
    "version": 3
   },
   "file_extension": ".py",
   "mimetype": "text/x-python",
   "name": "python",
   "nbconvert_exporter": "python",
   "pygments_lexer": "ipython3",
   "version": "3.9.16"
  },
  "vscode": {
   "interpreter": {
    "hash": "2a8dfe095fce2b5e88c64a2c3ee084c8e0e0d70b23e7b95b1cfb538be294c5c8"
   }
  }
 },
 "nbformat": 4,
 "nbformat_minor": 4
}

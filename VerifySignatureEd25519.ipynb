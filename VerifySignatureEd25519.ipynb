{
 "cells": [
  {
   "attachments": {},
   "cell_type": "markdown",
   "metadata": {},
   "source": [
    "## Imports"
   ]
  },
  {
   "cell_type": "code",
   "execution_count": 49,
   "metadata": {},
   "outputs": [],
   "source": [
    "import ed25519\n",
    "import x25519\n",
    "from aes import aes\n",
    "import aes\n",
    "import base64\n",
    "import socket\n",
    "import os"
   ]
  },
  {
   "attachments": {},
   "cell_type": "markdown",
   "metadata": {},
   "source": [
    "## Full apllication"
   ]
  },
  {
   "cell_type": "code",
   "execution_count": 97,
   "metadata": {},
   "outputs": [
    {
     "name": "stdout",
     "output_type": "stream",
     "text": [
      "Public Key to save in arduino :b'GskUXMWVAz26Ko+AAywcB75HGZurjfnznrgsxaSY1mc='\n"
     ]
    }
   ],
   "source": [
    "# const\n",
    "adress = '192.168.127.121'    \n",
    "port = 20582        \n",
    "\n",
    "# ed25519 private Key\n",
    "priv_ed25519 = ed25519.keys.SigningKey(base64.b64decode(\"06DAozc2xb72sdoseInPHTLwhg+E3+pC+qPhxCh12To=\"))\n",
    "print(f\"Public Key to save in arduino :{base64.b64encode(priv_ed25519.get_verifying_key().to_bytes())}\")"
   ]
  },
  {
   "cell_type": "code",
   "execution_count": 100,
   "metadata": {},
   "outputs": [
    {
     "name": "stdout",
     "output_type": "stream",
     "text": [
      "socket binded to 20582\n",
      "socket is listening\n",
      "Got connection from ('192.168.127.97', 50103) \n",
      "\n",
      "client with \n",
      "698d81378841e26489372328c620abbb778d96388e7913ca478374e6ea95a5ad\n",
      "public key is accepted\n",
      "\n",
      "The signature is valid.\n",
      "Shared from client  : f01170746251d06edb02ab084fad29170a0f7fb4eb151197ab9a18012564d708\n",
      "Shared             : f01170746251d06edb02ab084fad29170a0f7fb4eb151197ab9a18012564d708\n"
     ]
    }
   ],
   "source": [
    "\n",
    "# TCP server\n",
    "s = socket.socket()           \n",
    "s.bind((adress, port))         \n",
    "print (\"socket binded to %s\" %(port))\n",
    "s.listen(5)    \n",
    "print (\"socket is listening\")    \n",
    "\n",
    "# connect first client\n",
    "c, addr = s.accept()    \n",
    "print (f\"Got connection from {addr} \\n\" )\n",
    "c.settimeout(5)\n",
    "\n",
    "# receive public ed25519 key from server then accept\n",
    "# Normally fisrt time add to known host\n",
    "client_pub_ed25519 = ed25519.keys.VerifyingKey(base64.b64decode(c.recv(44).decode(\"ascii\"))) \n",
    "c.send('accept'.encode(\"ascii\"))\n",
    "print(f\"client with \\n{client_pub_ed25519.to_bytes().hex()}\\npublic key is accepted\\n\")\n",
    "\n",
    "# get public x25519 from client and control with signature\n",
    "# control signature will be usefull if public ed25519 can be verified with known host\n",
    "base64_client_pub_x25519 = c.recv(44).decode(\"ascii\")\n",
    "client_pub_x25519 = base64.b64decode(base64_client_pub_x25519)\n",
    "client_signature = c.recv(64)\n",
    "\n",
    "# control signature \n",
    "try:\n",
    "    client_pub_ed25519.verify(client_signature.hex(), base64_client_pub_x25519.encode(\"ascii\"), encoding='hex')\n",
    "    print(\"The signature is valid.\")\n",
    "except:\n",
    "    print(\"Invalid signature!\")\n",
    "\n",
    "# authenticate us\n",
    "priv_x25519 =  os.urandom(32)\n",
    "pub_x25519 = x25519.scalar_base_mult(priv_x25519)\n",
    "encoded_pub_x25519 = base64.b64encode(pub_x25519)\n",
    "\n",
    "signature = priv_ed25519.sign(encoded_pub_x25519)\n",
    "c.send(encoded_pub_x25519)\n",
    "c.send(signature)\n",
    "\n",
    "shared_from_client = c.recv(32)\n",
    "print(f\"Shared from client  : {(shared_from_client).hex()}\")\n",
    "\n",
    "calculate_shared = x25519.curve25519(priv_x25519, client_pub_x25519)\n",
    "\n",
    "print(f\"Shared              : {(calculate_shared).hex()}\")\n",
    "\n",
    "\n",
    "s.close()"
   ]
  },
  {
   "attachments": {},
   "cell_type": "markdown",
   "metadata": {},
   "source": [
    "## Individual cells for testing"
   ]
  },
  {
   "attachments": {},
   "cell_type": "markdown",
   "metadata": {},
   "source": [
    "### Signatures tests"
   ]
  },
  {
   "cell_type": "code",
   "execution_count": 2,
   "metadata": {},
   "outputs": [
    {
     "name": "stdout",
     "output_type": "stream",
     "text": [
      "Private key (32 bytes): 0fde8a96b2066e34fbeac155fc5104a8c05a96c501a001300ee99f9eb261d82d\n",
      "Public key (32 bytes):  7e4a530129fbe298f9e431356f0d2f5687fc21a1241064ea224687de8be5a24a\n",
      "Signature (64 bytes): b'B785B9A12C6389EDF447D470D2B38C278E5ADBC31F67FA79741B9AC8CA78FB9EB96585DE2DFD2ABCF4D769163F07AEBC412424247824EE9BF2F087FA7F5FD10B'\n",
      "The signature is valid.\n"
     ]
    }
   ],
   "source": [
    "privKey = ed25519.keys.SigningKey(b'0FDE8A96B2066E34FBEAC155FC5104A8C05A96C501A001300EE99F9EB261D82D',encoding='hex')\n",
    "pubKey = ed25519.keys.VerifyingKey(b'7E4A530129FBE298F9E431356F0D2F5687FC21A1241064EA224687DE8BE5A24A',encoding='hex')\n",
    "\n",
    "print(\"Private key (32 bytes):\", privKey.to_seed().hex())\n",
    "print(\"Public key (32 bytes): \", pubKey.to_bytes().hex())\n",
    "\n",
    "\n",
    "msg = \"test de signature\".encode(\"ascii\")\n",
    "\n",
    "# signature = privKey.sign(msg, encoding='hex')\n",
    "signature = b'B785B9A12C6389EDF447D470D2B38C278E5ADBC31F67FA79741B9AC8CA78FB9EB96585DE2DFD2ABCF4D769163F07AEBC412424247824EE9BF2F087FA7F5FD10B'\n",
    "\n",
    "print(\"Signature (64 bytes):\", signature)\n",
    "try:\n",
    "    pubKey.verify(signature, msg, encoding='hex')\n",
    "    print(\"The signature is valid.\")\n",
    "except:\n",
    "    print(\"Invalid signature!\")\n"
   ]
  },
  {
   "cell_type": "code",
   "execution_count": 95,
   "metadata": {},
   "outputs": [
    {
     "name": "stdout",
     "output_type": "stream",
     "text": [
      "Invalid signature!\n"
     ]
    }
   ],
   "source": [
    "pubKey = ed25519.keys.VerifyingKey(base64.b64decode(\"vRy71JXxwpbl3ZfCJCeROrUrYbxD8DMuu0qsCTIa1Oc=\").hex(),encoding='hex')\n",
    "\n",
    "msg = \"hYSGOw1znznl5NO3OnI85/1kiC75dUEH0u1BZLDFLWw=\".encode(\"ascii\")\n",
    "\n",
    "signature = b'0f2f532b651886ad13022057cf3c2acc7daf573ed48487484d62d5s4c972354de7390ff041561dfbe35877c0575a199ade4200d2ddf5efb92e9f57ad12b542102'\n",
    "\n",
    "try:\n",
    "    pubKey.verify(signature, msg, encoding='hex')\n",
    "    print(\"The signature is valid.\")\n",
    "except:\n",
    "    print(\"Invalid signature!\")"
   ]
  },
  {
   "attachments": {},
   "cell_type": "markdown",
   "metadata": {},
   "source": [
    "### Create random keys "
   ]
  },
  {
   "cell_type": "code",
   "execution_count": 90,
   "metadata": {},
   "outputs": [
    {
     "name": "stdout",
     "output_type": "stream",
     "text": [
      "Private key (32 bytes): d3a0c0a33736c5bef6b1da2c7889cf1d32f0860f84dfea42faa3e1c42875d93a\n",
      "Public key (32 bytes):  1ac9145cc595033dba2a8f80032c1c07be47199bab8df9f39eb82cc5a498d667\n"
     ]
    }
   ],
   "source": [
    "# privKey2, pubKey2 = ed25519.keys.create_keypair()\n",
    "privKey2 = ed25519.keys.SigningKey(base64.b64decode(\"06DAozc2xb72sdoseInPHTLwhg+E3+pC+qPhxCh12To=\"))\n",
    "pubKey2 = privKey2.get_verifying_key()\n",
    "print(\"Private key (32 bytes):\", privKey2.to_seed().hex())\n",
    "print(\"Public key (32 bytes): \", pubKey2.to_bytes().hex())"
   ]
  },
  {
   "attachments": {},
   "cell_type": "markdown",
   "metadata": {},
   "source": [
    "### Test Curve25519"
   ]
  },
  {
   "cell_type": "code",
   "execution_count": 5,
   "metadata": {},
   "outputs": [
    {
     "name": "stdout",
     "output_type": "stream",
     "text": [
      "arduino Private key (32 bytes): 0fde8a96b2066e34fbeac155fc5104a8c05a96c501a001300ee99f9eb261d82d\n",
      "arduino Public key (32 bytes):  e7432ca9d9028065e54bfb9d05b8eaadaff6f4924ea62db25e17c24a71048d20\n",
      "python Private key (32 bytes): cb52809cdf1d8bc9baeb58e2dacacb77a47bba67260b107b55821a991a113bfe\n",
      "python Public key (32 bytes):  96083a0efa3eea15bc5746e8aa257e7082a3a186240af52ecf40c4c13dfe052c\n",
      "55af02898e27b564b5701805120b21b57d2f3d2fded8bd9717c566f7adaace33\n",
      "56ac5c5c7ea098ecf6a3c747ffe3acd3016aaf28cfa408ce79bcbef21138dc3d\n",
      "\n",
      "\n",
      "Shared (arduino):\t49049308d1922bf3fb3c6599187260bcac7523f4d36b9de8d93a87593e00400a\n",
      "Shared (python): \t49049308d1922bf3fb3c6599187260bcac7523f4d36b9de8d93a87593e00400a\n"
     ]
    }
   ],
   "source": [
    "print(\"arduino Private key (32 bytes):\", privKey.to_seed().hex())\n",
    "print(\"arduino Public key (32 bytes): \", pubKey.to_bytes().hex())\n",
    "\n",
    "print(\"python Private key (32 bytes):\", privKey2.to_seed().hex())\n",
    "print(\"python Public key (32 bytes): \", pubKey2.to_bytes().hex())\n",
    "\n",
    "pubx = x25519.scalar_base_mult(privKey.to_seed())\n",
    "print(pubx.hex())\n",
    "pubx2 = x25519.scalar_base_mult(privKey2.to_seed())\n",
    "print(pubx2.hex())\n",
    "\n",
    "shared = x25519.curve25519(privKey.to_seed(), pubx2) \n",
    "sharedPy = x25519.curve25519(privKey2.to_seed(), pubx) \n",
    "\n",
    "print (f\"\\n\\nShared (arduino):\\t{(shared).hex()}\")\n",
    "print (f\"Shared (python): \\t{(sharedPy).hex()}\")"
   ]
  },
  {
   "attachments": {},
   "cell_type": "markdown",
   "metadata": {},
   "source": [
    "### Save sever public key in arduino (Base64)"
   ]
  },
  {
   "cell_type": "code",
   "execution_count": 61,
   "metadata": {},
   "outputs": [
    {
     "name": "stdout",
     "output_type": "stream",
     "text": [
      "Public Key to save in arduino :b'06DAozc2xb72sdoseInPHTLwhg+E3+pC+qPhxCh12To='\n",
      "Public Key to save in arduino :b'GskUXMWVAz26Ko+AAywcB75HGZurjfnznrgsxaSY1mc='\n"
     ]
    }
   ],
   "source": [
    "print(f\"Public Key to save in arduino :{base64.b64encode(pubKey2.to_bytes())}\")"
   ]
  },
  {
   "cell_type": "code",
   "execution_count": 91,
   "metadata": {},
   "outputs": [
    {
     "name": "stdout",
     "output_type": "stream",
     "text": [
      "Key in hex  :20f18bd2680f7dc245d4094ed90e823cae997f69bc828f97ee1d8f1a2eb0ed25\n",
      "Key to send :b'IPGL0mgPfcJF1AlO2Q6CPK6Zf2m8go+X7h2PGi6w7SU='\n",
      "Signature :cc029c64093e71460c57946138c82caa6a644b1da656a6e9c462d2e846fc32a8d718862f698b79c289b6d438f262a883d60266c9187101416166ca687bc7460c\n"
     ]
    }
   ],
   "source": [
    "privx2 =  os.urandom(32)\n",
    "pubx2 = x25519.scalar_base_mult(privx2)\n",
    "\n",
    "encoded = base64.b64encode(pubx2)\n",
    "\n",
    "print(f\"Key in hex  :{pubx2.hex()}\")\n",
    "print(f\"Key to send :{encoded}\")\n",
    " \n",
    "signatureofencoded = privKey2.sign(encoded)\n",
    "print(f\"Signature :{signatureofencoded.hex()}\")"
   ]
  },
  {
   "cell_type": "code",
   "execution_count": 81,
   "metadata": {},
   "outputs": [
    {
     "name": "stdout",
     "output_type": "stream",
     "text": [
      "The signature is valid.\n"
     ]
    }
   ],
   "source": [
    "try:\n",
    "    pubKey2.verify(signatureofencoded.hex(), encoded, encoding='hex')\n",
    "    print(\"The signature is valid.\")\n",
    "except:\n",
    "    print(\"Invalid signature!\")"
   ]
  },
  {
   "attachments": {},
   "cell_type": "markdown",
   "metadata": {},
   "source": [
    "### From public x25519 key of arduino create shared key"
   ]
  },
  {
   "cell_type": "code",
   "execution_count": 59,
   "metadata": {},
   "outputs": [
    {
     "name": "stdout",
     "output_type": "stream",
     "text": [
      "5a44bbf0618aa124d1501ebf30e29c8b1c170f3f579747b1a6e3d9e6c112f42e\n",
      "Shared : \taff041dea1c51a458a5d3aa15027c191c9dd6f9f17f1fac97e3a720de383541c\n"
     ]
    }
   ],
   "source": [
    "arduinoKey = base64.b64decode(\"WkS78GGKoSTRUB6/MOKcixwXDz9Xl0expuPZ5sES9C4=\")\n",
    "print(arduinoKey.hex())\n",
    "\n",
    "realshared = x25519.curve25519(privKey2.to_seed(), arduinoKey)\n",
    "\n",
    "print (f\"Shared : \\t{(realshared).hex()}\")"
   ]
  },
  {
   "attachments": {},
   "cell_type": "markdown",
   "metadata": {},
   "source": [
    "### TCP server "
   ]
  },
  {
   "cell_type": "code",
   "execution_count": 92,
   "metadata": {},
   "outputs": [
    {
     "name": "stdout",
     "output_type": "stream",
     "text": [
      "Socket successfully created\n",
      "socket binded to 20582\n",
      "socket is listening\n"
     ]
    }
   ],
   "source": [
    "s = socket.socket()        \n",
    "print (\"Socket successfully created\")\n",
    "\n",
    "port = 20582               \n",
    "\n",
    "s.bind(('192.168.127.121', port))        \n",
    "\n",
    "print (\"socket binded to %s\" %(port))\n",
    " \n",
    "s.listen(5)    \n",
    "print (\"socket is listening\")         "
   ]
  },
  {
   "cell_type": "code",
   "execution_count": 62,
   "metadata": {},
   "outputs": [],
   "source": [
    "s.close()"
   ]
  },
  {
   "attachments": {},
   "cell_type": "markdown",
   "metadata": {},
   "source": [
    "### Accept"
   ]
  },
  {
   "cell_type": "code",
   "execution_count": 93,
   "metadata": {},
   "outputs": [
    {
     "name": "stdout",
     "output_type": "stream",
     "text": [
      "Got connection from ('192.168.127.97', 54298)\n"
     ]
    }
   ],
   "source": [
    "c, addr = s.accept()    \n",
    "print ('Got connection from', addr )\n",
    "\n",
    "c.settimeout(5)"
   ]
  },
  {
   "attachments": {},
   "cell_type": "markdown",
   "metadata": {},
   "source": [
    "### Send end receive to control agreement"
   ]
  },
  {
   "cell_type": "code",
   "execution_count": 94,
   "metadata": {},
   "outputs": [
    {
     "name": "stdout",
     "output_type": "stream",
     "text": [
      "D/+PPH9QVqDSijJcxFIjVEAaEsWKG/C4VLLYDor7R2Y=\n",
      "K1oVXq2YOAuVoXvjVpdiq+s732cqRAtZwvqlBEVVg1o=\n",
      "61b5a916bb94b0861d66f10e57c251818f61fe39a5da462f263b1af95d18dfa5ef5e7b10d56323513a25af92d56377723395ed03c05f3849ca86dfadfb9a2f06\n",
      "596f75206172652061206c696172\n"
     ]
    },
    {
     "ename": "timeout",
     "evalue": "timed out",
     "output_type": "error",
     "traceback": [
      "\u001b[1;31m---------------------------------------------------------------------------\u001b[0m",
      "\u001b[1;31mtimeout\u001b[0m                                   Traceback (most recent call last)",
      "Cell \u001b[1;32mIn[94], line 11\u001b[0m\n\u001b[0;32m      8\u001b[0m c\u001b[39m.\u001b[39msend(signatureofencoded)\n\u001b[0;32m     10\u001b[0m \u001b[39mprint\u001b[39m (c\u001b[39m.\u001b[39mrecv(\u001b[39m64\u001b[39m)\u001b[39m.\u001b[39mhex()) \n\u001b[1;32m---> 11\u001b[0m \u001b[39mprint\u001b[39m (c\u001b[39m.\u001b[39;49mrecv(\u001b[39m32\u001b[39;49m)\u001b[39m.\u001b[39mdecode(\u001b[39m\"\u001b[39m\u001b[39mascii\u001b[39m\u001b[39m\"\u001b[39m)) \n\u001b[0;32m     12\u001b[0m \u001b[39mprint\u001b[39m (c\u001b[39m.\u001b[39mrecv(\u001b[39m32\u001b[39m)\u001b[39m.\u001b[39mhex()) \n\u001b[0;32m     14\u001b[0m \u001b[39m#   c.close()\u001b[39;00m\n",
      "\u001b[1;31mtimeout\u001b[0m: timed out"
     ]
    }
   ],
   "source": [
    "print (c.recv(44).decode(\"ascii\"))\n",
    "c.send('accept'.encode(\"ascii\"))\n",
    "\n",
    "print (c.recv(44).decode(\"ascii\"))\n",
    "print (c.recv(64).hex())\n",
    "\n",
    "c.send(encoded)\n",
    "c.send(signatureofencoded)\n",
    "\n",
    "print (c.recv(64).hex()) \n",
    "print (c.recv(32).decode(\"ascii\")) \n",
    "print (c.recv(32).hex()) \n",
    "\n",
    "#   c.close()\n"
   ]
  },
  {
   "cell_type": "code",
   "execution_count": 31,
   "metadata": {},
   "outputs": [
    {
     "name": "stdout",
     "output_type": "stream",
     "text": [
      "b''\n"
     ]
    }
   ],
   "source": [
    "data = bytes()\n",
    "try:\n",
    "    print (c.recv(44).decode(\"ascii\"))\n",
    "    c.settimeout(0.01)\n",
    "    while True:\n",
    "        data +=c.recv(1)\n",
    "except:\n",
    "    print(data)"
   ]
  },
  {
   "attachments": {},
   "cell_type": "markdown",
   "metadata": {},
   "source": [
    "### Tests AES encrypting"
   ]
  },
  {
   "cell_type": "code",
   "execution_count": 11,
   "metadata": {},
   "outputs": [
    {
     "name": "stdout",
     "output_type": "stream",
     "text": [
      "31452682052524923878346587304201317347138921881689638911249933624929528380428\n",
      "[3, 236, 22, 99, 205, 24, 79, 51, 229, 61, 172, 239, 115, 34, 49, 76]\n",
      "0x03ec1663cd184f33e53dacef7322314c\n",
      "[0, 17, 34, 51, 68, 85, 102, 119, 136, 153, 170, 187, 204, 221, 238, 255]\n",
      "0x00112233445566778899aabbccddeeff\n"
     ]
    }
   ],
   "source": [
    "pt = 0x00112233445566778899aabbccddeeff\n",
    "\n",
    "mk =  int.from_bytes(realshared,'big')\n",
    "\n",
    "cipher = aes.aes(mk, 256)\n",
    "print(mk)\n",
    "\n",
    "ct = cipher.enc_once(pt)\n",
    "print(ct)\n",
    "print(\"0x\"+hex(aes.utils.arr8bit2int(ct))[2:].zfill(32))\n",
    "\n",
    "pr = cipher.dec_once(ct)\n",
    "print(pr)\n",
    "print(\"0x\"+hex(aes.utils.arr8bit2int(pr))[2:].zfill(32))"
   ]
  }
 ],
 "metadata": {
  "kernelspec": {
   "display_name": "Python 3",
   "language": "python",
   "name": "python3"
  },
  "language_info": {
   "codemirror_mode": {
    "name": "ipython",
    "version": 3
   },
   "file_extension": ".py",
   "mimetype": "text/x-python",
   "name": "python",
   "nbconvert_exporter": "python",
   "pygments_lexer": "ipython3",
   "version": "3.9.16"
  },
  "vscode": {
   "interpreter": {
    "hash": "2a8dfe095fce2b5e88c64a2c3ee084c8e0e0d70b23e7b95b1cfb538be294c5c8"
   }
  }
 },
 "nbformat": 4,
 "nbformat_minor": 4
}

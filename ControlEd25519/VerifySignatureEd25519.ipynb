{
 "cells": [
  {
   "attachments": {},
   "cell_type": "markdown",
   "metadata": {},
   "source": [
    "Import"
   ]
  },
  {
   "cell_type": "code",
   "execution_count": 17,
   "metadata": {},
   "outputs": [],
   "source": [
    "import ed25519\n",
    "\n"
   ]
  },
  {
   "attachments": {},
   "cell_type": "markdown",
   "metadata": {},
   "source": [
    "Testsignature"
   ]
  },
  {
   "cell_type": "code",
   "execution_count": 21,
   "metadata": {},
   "outputs": [
    {
     "name": "stdout",
     "output_type": "stream",
     "text": [
      "Private key (32 bytes): b'5f3556ed7b7d26f676f5a0806a48d5c64f799e31ab9fbc49a144bc0c52846bdd'\n",
      "Public key (32 bytes):  b'93451c3260a1484a2cb395a65c953a7ee582d7615b4a43be434c2ae772d7df94'\n",
      "Signature (64 bytes): b'2107ac73ca0603b267068d9a71f435a530edf50cf1efeff2a6284859b4f11534f9805d2d9e05655228ebb250e91d4afd083c239d66c20fd99a6d4899e721980f'\n",
      "The signature is valid.\n"
     ]
    }
   ],
   "source": [
    "privKey = ed25519.keys.SigningKey(b'7891AE84AD1B4FDC1FE7EC427E22DB3BDF5894040D056E179F9D750E0EA44E5F',encoding='hex')\n",
    "pubKey = ed25519.keys.VerifyingKey(b'79E197AD98535D0D4AF8B3E39FA58F6D487134D8D214A55741AF78C91E6F0ED1',encoding='hex')\n",
    "\n",
    "# privKey, pubKey = ed25519.create_keypair()$\n",
    "\n",
    "\n",
    "print(\"Private key (32 bytes):\", privKey.to_ascii(encoding='hex'))\n",
    "print(\"Public key (32 bytes): \", pubKey.to_ascii(encoding='hex'))\n",
    "\n",
    "\n",
    "msg = b''\n",
    "# signature = privKey.sign(msg, encoding='hex')\n",
    "signature = b'9E44A4F578FE91393622D3DB82B94268FEB8186703B80A76B7888D6272C1BF61E0F343DCACFC05B17A856B718FC164648804F8F5C509C1356B959ABF8D94530C'\n",
    "\n",
    "print(\"Signature (64 bytes):\", signature)\n",
    "try:\n",
    "    pubKey.verify(signature, msg, encoding='hex')\n",
    "    print(\"The signature is valid.\")\n",
    "except:\n",
    "    print(\"Invalid signature!\")"
   ]
  }
 ],
 "metadata": {
  "kernelspec": {
   "display_name": "Python 3",
   "language": "python",
   "name": "python3"
  },
  "language_info": {
   "codemirror_mode": {
    "name": "ipython",
    "version": 3
   },
   "file_extension": ".py",
   "mimetype": "text/x-python",
   "name": "python",
   "nbconvert_exporter": "python",
   "pygments_lexer": "ipython3",
   "version": "3.9.16"
  },
  "vscode": {
   "interpreter": {
    "hash": "2a8dfe095fce2b5e88c64a2c3ee084c8e0e0d70b23e7b95b1cfb538be294c5c8"
   }
  }
 },
 "nbformat": 4,
 "nbformat_minor": 4
}
